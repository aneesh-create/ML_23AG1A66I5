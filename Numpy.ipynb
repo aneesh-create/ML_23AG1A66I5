{
  "nbformat": 4,
  "nbformat_minor": 0,
  "metadata": {
    "colab": {
      "provenance": [],
      "authorship_tag": "ABX9TyMRbsvqGOlIVn9mpZ/15IKx",
      "include_colab_link": true
    },
    "kernelspec": {
      "name": "python3",
      "display_name": "Python 3"
    },
    "language_info": {
      "name": "python"
    }
  },
  "cells": [
    {
      "cell_type": "markdown",
      "metadata": {
        "id": "view-in-github",
        "colab_type": "text"
      },
      "source": [
        "<a href=\"https://colab.research.google.com/github/aneesh-create/ML_23AG1A66I5/blob/main/Numpy.ipynb\" target=\"_parent\"><img src=\"https://colab.research.google.com/assets/colab-badge.svg\" alt=\"Open In Colab\"/></a>"
      ]
    },
    {
      "cell_type": "code",
      "execution_count": 7,
      "metadata": {
        "id": "LsCyncVfPaKO"
      },
      "outputs": [],
      "source": [
        "import numpy as np"
      ]
    },
    {
      "cell_type": "code",
      "source": [
        "# create a list named list1\n",
        "list1 = [2, 4, 6, 8]\n",
        "# create numpy array using list1\n",
        "array1 = np.array(list1)\n",
        "print(array1)\n",
        ""
      ],
      "metadata": {
        "colab": {
          "base_uri": "https://localhost:8080/"
        },
        "id": "AtfJLw_yUvg9",
        "outputId": "34dfd2fe-dfb8-4b95-dc71-a8c6ba4c381d"
      },
      "execution_count": 8,
      "outputs": [
        {
          "output_type": "stream",
          "name": "stdout",
          "text": [
            "[2 4 6 8]\n"
          ]
        }
      ]
    },
    {
      "cell_type": "code",
      "source": [
        "# create numpy array using a list\n",
        "array1 = np.array([2, 4, 6, 8])\n",
        "print(array1)\n",
        ""
      ],
      "metadata": {
        "colab": {
          "base_uri": "https://localhost:8080/"
        },
        "id": "2EutfcAQU56U",
        "outputId": "0b144c2b-a2f9-487d-ce7a-3e39c7961759"
      },
      "execution_count": 9,
      "outputs": [
        {
          "output_type": "stream",
          "name": "stdout",
          "text": [
            "[2 4 6 8]\n"
          ]
        }
      ]
    },
    {
      "cell_type": "code",
      "source": [
        "# create a 2D array with 2 rows and 4 columns\n",
        "array1 = np.array([[1, 2, 3, 4],\n",
        "                  [5, 6, 7, 8]])\n",
        "\n",
        "print(array1)\n",
        ""
      ],
      "metadata": {
        "colab": {
          "base_uri": "https://localhost:8080/"
        },
        "id": "JwEMkb-jU9uk",
        "outputId": "d96767ed-4a1a-499c-90d9-d9cab5853058"
      },
      "execution_count": 10,
      "outputs": [
        {
          "output_type": "stream",
          "name": "stdout",
          "text": [
            "[[1 2 3 4]\n",
            " [5 6 7 8]]\n"
          ]
        }
      ]
    },
    {
      "cell_type": "code",
      "source": [
        "# create a 3D array with 2 \"slices\", each of 3 rows and 4 columns\n",
        "array1 = np.array([[[1, 2, 3, 4],\n",
        "                [5, 6, 7, 8],\n",
        "                [9, 10, 11, 12]],\n",
        "\n",
        "                [[13, 14, 15, 16],\n",
        "                 [17, 18, 19, 20],\n",
        "                 [21, 22, 23, 24]]])\n",
        "\n",
        "print(array1)"
      ],
      "metadata": {
        "colab": {
          "base_uri": "https://localhost:8080/"
        },
        "id": "v03HKq9AVDqM",
        "outputId": "9ad69dbf-3ab2-4ede-9fc6-2a71cbb88618"
      },
      "execution_count": 11,
      "outputs": [
        {
          "output_type": "stream",
          "name": "stdout",
          "text": [
            "[[[ 1  2  3  4]\n",
            "  [ 5  6  7  8]\n",
            "  [ 9 10 11 12]]\n",
            "\n",
            " [[13 14 15 16]\n",
            "  [17 18 19 20]\n",
            "  [21 22 23 24]]]\n"
          ]
        }
      ]
    },
    {
      "cell_type": "code",
      "source": [
        "# create an array of integers\n",
        "array1 = np.array([2, 4, 6])\n",
        "\n",
        "# check the data type of array1\n",
        "print(array1.dtype)\n",
        ""
      ],
      "metadata": {
        "colab": {
          "base_uri": "https://localhost:8080/"
        },
        "id": "CIUZ6hFtVHsN",
        "outputId": "6e701f1b-f765-455f-fcb6-1849ada31429"
      },
      "execution_count": 12,
      "outputs": [
        {
          "output_type": "stream",
          "name": "stdout",
          "text": [
            "int64\n"
          ]
        }
      ]
    },
    {
      "cell_type": "code",
      "source": [
        "print(array1.ndim)"
      ],
      "metadata": {
        "colab": {
          "base_uri": "https://localhost:8080/"
        },
        "id": "KWpoZ7-OVK0N",
        "outputId": "cb94d14a-b342-4ba3-baad-9896b15ee368"
      },
      "execution_count": 13,
      "outputs": [
        {
          "output_type": "stream",
          "name": "stdout",
          "text": [
            "1\n"
          ]
        }
      ]
    },
    {
      "cell_type": "code",
      "source": [
        "print(array1.size)"
      ],
      "metadata": {
        "colab": {
          "base_uri": "https://localhost:8080/"
        },
        "id": "fayT1JorVT_E",
        "outputId": "18cc0a32-46fc-4373-d970-be3f4c086612"
      },
      "execution_count": 14,
      "outputs": [
        {
          "output_type": "stream",
          "name": "stdout",
          "text": [
            "3\n"
          ]
        }
      ]
    },
    {
      "cell_type": "code",
      "source": [
        "array1 = np.array([[1, 2, 3],\n",
        "                [6, 7, 8]])\n",
        "\n",
        "# return a tuple that gives size of array in each dimension\n",
        "print(array1.shape)\n",
        ""
      ],
      "metadata": {
        "colab": {
          "base_uri": "https://localhost:8080/"
        },
        "id": "Z7vuQbPbVXTF",
        "outputId": "bf86dfe7-fc3f-4534-c39d-c46426c377e2"
      },
      "execution_count": 15,
      "outputs": [
        {
          "output_type": "stream",
          "name": "stdout",
          "text": [
            "(2, 3)\n"
          ]
        }
      ]
    },
    {
      "cell_type": "code",
      "source": [
        "# create a default 1-D array of integers\n",
        "array1 = np.array([6, 7, 8, 10, 13])\n",
        "\n",
        "# create a 1-D array of 32-bit integers\n",
        "array2 = np.array([6, 7, 8, 10, 13], dtype=np.int32)\n",
        "\n",
        "# use of itemsize to determine size of each array element of array1 and array2\n",
        "print(array1.itemsize)\n",
        "print(array2.itemsize)\n",
        ""
      ],
      "metadata": {
        "colab": {
          "base_uri": "https://localhost:8080/"
        },
        "id": "T9O9LHArVai9",
        "outputId": "1dd535bd-5ebc-4fa8-a560-c9c96dd4dcae"
      },
      "execution_count": 16,
      "outputs": [
        {
          "output_type": "stream",
          "name": "stdout",
          "text": [
            "8\n",
            "4\n"
          ]
        }
      ]
    },
    {
      "cell_type": "code",
      "source": [
        "array1 = np.array([6, 7, 8])\n",
        "array2 = np.array([[1, 2, 3],\n",
        "                   \t    [6, 7, 8]])\n",
        "\n",
        "# print memory address of array1's and array2's data\n",
        "print(\"\\nData of array1 is: \",array1.data)\n",
        "print(\"Data of array2 is: \",array2.data)\n",
        ""
      ],
      "metadata": {
        "colab": {
          "base_uri": "https://localhost:8080/"
        },
        "id": "t5WNOnRqVdid",
        "outputId": "3b36864b-a783-43ab-97da-902dd22530b7"
      },
      "execution_count": 17,
      "outputs": [
        {
          "output_type": "stream",
          "name": "stdout",
          "text": [
            "\n",
            "Data of array1 is:  <memory at 0x7fbf6cdf1cc0>\n",
            "Data of array2 is:  <memory at 0x7fbf6cce1080>\n"
          ]
        }
      ]
    },
    {
      "cell_type": "code",
      "source": [
        "array1 = np.array([1, 3, 5, 7, 9])\n",
        "\n",
        "# access numpy elements using index\n",
        "print(array1[0])\n",
        "print(array1[2])\n",
        "print(array1[4])"
      ],
      "metadata": {
        "colab": {
          "base_uri": "https://localhost:8080/"
        },
        "id": "bPfhv8yfVe6d",
        "outputId": "4ab7705a-5040-4b12-d736-c946955dec06"
      },
      "execution_count": 18,
      "outputs": [
        {
          "output_type": "stream",
          "name": "stdout",
          "text": [
            "1\n",
            "5\n",
            "9\n"
          ]
        }
      ]
    },
    {
      "cell_type": "code",
      "source": [
        "array1[1]=10\n",
        "print(array1)"
      ],
      "metadata": {
        "colab": {
          "base_uri": "https://localhost:8080/"
        },
        "id": "wb9OVNNWVjNE",
        "outputId": "9406ab15-1930-469e-9f14-559a56a8806f"
      },
      "execution_count": 19,
      "outputs": [
        {
          "output_type": "stream",
          "name": "stdout",
          "text": [
            "[ 1 10  5  7  9]\n"
          ]
        }
      ]
    },
    {
      "cell_type": "code",
      "source": [
        "# create a 2D array\n",
        "array1 = np.array([[1, 3, 5, 7],\n",
        "                       [9, 11, 13, 15],\n",
        "                       [2, 4, 6, 8]])\n",
        "\n",
        "\n",
        "# access the element at the second row and fourth column\n",
        "element1 = array1[1, 3]  # returns 15\n",
        "print(\"4th Element at 2nd Row:\",element1)\n",
        "\n",
        "# access the element at the first row and second column\n",
        "element2 = array1[0, 1]  # returns 3\n",
        "print(\"2nd Element at First Row:\",element2)\n",
        ""
      ],
      "metadata": {
        "colab": {
          "base_uri": "https://localhost:8080/"
        },
        "id": "ouH7Nz7bVrR0",
        "outputId": "a1d649d2-6b1f-4b27-c2b8-d22428211226"
      },
      "execution_count": 20,
      "outputs": [
        {
          "output_type": "stream",
          "name": "stdout",
          "text": [
            "4th Element at 2nd Row: 15\n",
            "2nd Element at First Row: 3\n"
          ]
        }
      ]
    },
    {
      "cell_type": "code",
      "source": [
        "# create a 1D array with 5 elements\n",
        "array1 = np.array([1, 2, 3, 4, 5])\n",
        "\n",
        "# calculate the median\n",
        "median = np.median(array1)\n",
        "\n",
        "print(median)"
      ],
      "metadata": {
        "colab": {
          "base_uri": "https://localhost:8080/"
        },
        "id": "jWAHULSRVtU9",
        "outputId": "30f43ad7-a28c-4078-b4a1-1b17780a2fdc"
      },
      "execution_count": 21,
      "outputs": [
        {
          "output_type": "stream",
          "name": "stdout",
          "text": [
            "3.0\n"
          ]
        }
      ]
    },
    {
      "cell_type": "code",
      "source": [
        "# create a numpy array\n",
        "marks = np.array([76, 78, 81, 66, 85])\n",
        "\n",
        "# compute the mean of marks\n",
        "mean_marks = np.mean(marks)\n",
        "\n",
        "print(mean_marks)\n",
        ""
      ],
      "metadata": {
        "colab": {
          "base_uri": "https://localhost:8080/"
        },
        "id": "JjHreNivVw19",
        "outputId": "c7d8a586-cfb8-4aa9-8235-3e0490596e57"
      },
      "execution_count": 22,
      "outputs": [
        {
          "output_type": "stream",
          "name": "stdout",
          "text": [
            "77.2\n"
          ]
        }
      ]
    },
    {
      "cell_type": "code",
      "source": [
        "# create a numpy array\n",
        "marks = np.array([76, 78, 81, 66, 85])\n",
        "\n",
        "# compute the standard deviation of marks\n",
        "std_marks = np.std(marks)\n",
        "print(std_marks)"
      ],
      "metadata": {
        "colab": {
          "base_uri": "https://localhost:8080/"
        },
        "id": "KO0kvCfdV0N9",
        "outputId": "fcdc30fc-a61e-4b8a-f7e6-84fb43af661e"
      },
      "execution_count": 23,
      "outputs": [
        {
          "output_type": "stream",
          "name": "stdout",
          "text": [
            "6.368673331236263\n"
          ]
        }
      ]
    },
    {
      "cell_type": "code",
      "source": [
        "# create a numpy array\n",
        "marks = np.array([76, 78, 81, 66, 85])\n",
        "\n",
        "# compute the standard deviation of marks\n",
        "std_marks = np.percentile(marks,50)\n",
        "print(std_marks)"
      ],
      "metadata": {
        "colab": {
          "base_uri": "https://localhost:8080/"
        },
        "id": "2lzPVR8iV3NV",
        "outputId": "b6fcc12b-b4fb-4440-d18a-650062a10bc0"
      },
      "execution_count": 24,
      "outputs": [
        {
          "output_type": "stream",
          "name": "stdout",
          "text": [
            "78.0\n"
          ]
        }
      ]
    },
    {
      "cell_type": "code",
      "source": [
        "# create a numpy array\n",
        "marks = np.array([76, 78, 81, 66, 85])\n",
        "\n",
        "# compute the standard deviation of marks\n",
        "std_marks = np.min(marks)\n",
        "print(std_marks)\n",
        ""
      ],
      "metadata": {
        "colab": {
          "base_uri": "https://localhost:8080/"
        },
        "id": "hfxpH5YRV7mu",
        "outputId": "776df3d6-2d10-4d92-964c-bce50ed3cedd"
      },
      "execution_count": 25,
      "outputs": [
        {
          "output_type": "stream",
          "name": "stdout",
          "text": [
            "66\n"
          ]
        }
      ]
    },
    {
      "cell_type": "code",
      "source": [
        "# create a numpy array\n",
        "marks = np.array([76, 78, 81, 66, 85])\n",
        "\n",
        "# compute the standard deviation of marks\n",
        "std_marks = np.max(marks)\n",
        "print(std_marks)\n",
        ""
      ],
      "metadata": {
        "colab": {
          "base_uri": "https://localhost:8080/"
        },
        "id": "A5-7-GhnV-fN",
        "outputId": "fdfe6eda-908e-4f38-f7be-ecab0bd3d5ec"
      },
      "execution_count": 26,
      "outputs": [
        {
          "output_type": "stream",
          "name": "stdout",
          "text": [
            "85\n"
          ]
        }
      ]
    }
  ]
}